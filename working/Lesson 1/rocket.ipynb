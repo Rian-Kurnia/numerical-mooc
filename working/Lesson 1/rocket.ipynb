{
 "cells": [
  {
   "cell_type": "code",
   "execution_count": 1,
   "metadata": {
    "collapsed": true
   },
   "outputs": [],
   "source": [
    "import numpy\n",
    "import matplotlib.pyplot as plt\n",
    "%matplotlib inline"
   ]
  },
  {
   "cell_type": "code",
   "execution_count": 2,
   "metadata": {
    "collapsed": false
   },
   "outputs": [],
   "source": [
    "T=50.0\n",
    "dt=0.1\n",
    "N=int(T/dt)+1\n",
    "t=numpy.linspace(0.0, T, N)"
   ]
  },
  {
   "cell_type": "code",
   "execution_count": 3,
   "metadata": {
    "collapsed": false
   },
   "outputs": [],
   "source": [
    "h0 = 0.0\n",
    "v0 = 0.0\n",
    "g = 9.81\n",
    "m_s = 50.0\n",
    "rho = 1.091\n",
    "A = numpy.pi/4\n",
    "v_e = 325.0\n",
    "C_D = 0.15\n",
    "m_p0 = 100.0"
   ]
  },
  {
   "cell_type": "code",
   "execution_count": 4,
   "metadata": {
    "collapsed": false
   },
   "outputs": [
    {
     "name": "stdout",
     "output_type": "stream",
     "text": [
      "0.785398163397\n"
     ]
    }
   ],
   "source": [
    "print A"
   ]
  },
  {
   "cell_type": "code",
   "execution_count": 5,
   "metadata": {
    "collapsed": false
   },
   "outputs": [],
   "source": [
    "u = numpy.zeros((N,2))\n",
    "u[0] = [h0, v0]"
   ]
  },
  {
   "cell_type": "code",
   "execution_count": 10,
   "metadata": {
    "collapsed": false
   },
   "outputs": [],
   "source": [
    "def m_dotp(x):\n",
    "        if x>=0 and x<5:\n",
    "            return 20\n",
    "        elif x>=5:\n",
    "            return 0"
   ]
  },
  {
   "cell_type": "code",
   "execution_count": 11,
   "metadata": {
    "collapsed": true
   },
   "outputs": [],
   "source": [
    "def m_p(x):\n",
    "        if x>=0 and x<5:\n",
    "            return m_p0-x*20\n",
    "        elif x>=5:\n",
    "            return 0"
   ]
  },
  {
   "cell_type": "code",
   "execution_count": 12,
   "metadata": {
    "collapsed": false
   },
   "outputs": [
    {
     "data": {
      "text/plain": [
       "100.0"
      ]
     },
     "execution_count": 12,
     "metadata": {},
     "output_type": "execute_result"
    }
   ],
   "source": [
    "m_p(0)"
   ]
  },
  {
   "cell_type": "code",
   "execution_count": 13,
   "metadata": {
    "collapsed": false
   },
   "outputs": [],
   "source": [
    "for i,x in enumerate(t[:-1]):\n",
    "    u[i+1] = u[i] + dt*numpy.array([u[i][1], (-1*g)+(v_e*m_dotp(x)/(m_s + m_p(x)))-(0.5*rho*u[i][1]*numpy.abs(u[i][1])*A*C_D/(m_s + m_p(x)))])"
   ]
  },
  {
   "cell_type": "code",
   "execution_count": 14,
   "metadata": {
    "collapsed": false
   },
   "outputs": [],
   "source": [
    "h_euler=u[:,0]\n",
    "v_euler=u[:,1]"
   ]
  },
  {
   "cell_type": "code",
   "execution_count": 15,
   "metadata": {
    "collapsed": false
   },
   "outputs": [
    {
     "data": {
      "text/plain": [
       "[<matplotlib.lines.Line2D at 0xaf3c65cc>]"
      ]
     },
     "execution_count": 15,
     "metadata": {},
     "output_type": "execute_result"
    },
    {
     "data": {
      "image/png": "[encoded data removed]",
      "text/plain": [
       "<matplotlib.figure.Figure at 0xaf3e262c>"
      ]
     },
     "metadata": {},
     "output_type": "display_data"
    }
   ],
   "source": [
    "plt.plot(t,h_euler)"
   ]
  },
  {
   "cell_type": "code",
   "execution_count": 16,
   "metadata": {
    "collapsed": false
   },
   "outputs": [
    {
     "data": {
      "text/plain": [
       "[<matplotlib.lines.Line2D at 0xaf3785ec>]"
      ]
     },
     "execution_count": 16,
     "metadata": {},
     "output_type": "execute_result"
    },
    {
     "data": {
      "image/png": "[encoded data removed]",
      "text/plain": [
       "<matplotlib.figure.Figure at 0xaf49382c>"
      ]
     },
     "metadata": {},
     "output_type": "display_data"
    }
   ],
   "source": [
    "plt.plot(t,v_euler)"
   ]
  },
  {
   "cell_type": "code",
   "execution_count": 17,
   "metadata": {
    "collapsed": false
   },
   "outputs": [
    {
     "data": {
      "text/plain": [
       "232.10613341261791"
      ]
     },
     "execution_count": 17,
     "metadata": {},
     "output_type": "execute_result"
    }
   ],
   "source": [
    "max(v_euler)"
   ]
  },
  {
   "cell_type": "code",
   "execution_count": 19,
   "metadata": {
    "collapsed": false
   },
   "outputs": [
    {
     "data": {
      "text/plain": [
       "array([50])"
      ]
     },
     "execution_count": 19,
     "metadata": {},
     "output_type": "execute_result"
    }
   ],
   "source": [
    "numpy.where(v_euler>232.1)[0]"
   ]
  },
  {
   "cell_type": "code",
   "execution_count": 21,
   "metadata": {
    "collapsed": false
   },
   "outputs": [
    {
     "data": {
      "text/plain": [
       "array([ 523.52283429,  232.10613341])"
      ]
     },
     "execution_count": 21,
     "metadata": {},
     "output_type": "execute_result"
    }
   ],
   "source": [
    "u[50]"
   ]
  },
  {
   "cell_type": "code",
   "execution_count": 14,
   "metadata": {
    "collapsed": false
   },
   "outputs": [
    {
     "data": {
      "text/plain": [
       "array([  0. ,   0.1,   0.2,   0.3,   0.4,   0.5,   0.6,   0.7,   0.8,\n",
       "         0.9,   1. ,   1.1,   1.2,   1.3,   1.4,   1.5,   1.6,   1.7,\n",
       "         1.8,   1.9,   2. ,   2.1,   2.2,   2.3,   2.4,   2.5,   2.6,\n",
       "         2.7,   2.8,   2.9,   3. ,   3.1,   3.2,   3.3,   3.4,   3.5,\n",
       "         3.6,   3.7,   3.8,   3.9,   4. ,   4.1,   4.2,   4.3,   4.4,\n",
       "         4.5,   4.6,   4.7,   4.8,   4.9,   5. ,   5.1,   5.2,   5.3,\n",
       "         5.4,   5.5,   5.6,   5.7,   5.8,   5.9,   6. ,   6.1,   6.2,\n",
       "         6.3,   6.4,   6.5,   6.6,   6.7,   6.8,   6.9,   7. ,   7.1,\n",
       "         7.2,   7.3,   7.4,   7.5,   7.6,   7.7,   7.8,   7.9,   8. ,\n",
       "         8.1,   8.2,   8.3,   8.4,   8.5,   8.6,   8.7,   8.8,   8.9,\n",
       "         9. ,   9.1,   9.2,   9.3,   9.4,   9.5,   9.6,   9.7,   9.8,\n",
       "         9.9,  10. ,  10.1,  10.2,  10.3,  10.4,  10.5,  10.6,  10.7,\n",
       "        10.8,  10.9,  11. ,  11.1,  11.2,  11.3,  11.4,  11.5,  11.6,\n",
       "        11.7,  11.8,  11.9,  12. ,  12.1,  12.2,  12.3,  12.4,  12.5,\n",
       "        12.6,  12.7,  12.8,  12.9,  13. ,  13.1,  13.2,  13.3,  13.4,\n",
       "        13.5,  13.6,  13.7,  13.8,  13.9,  14. ,  14.1,  14.2,  14.3,\n",
       "        14.4,  14.5,  14.6,  14.7,  14.8,  14.9,  15. ,  15.1,  15.2,\n",
       "        15.3,  15.4,  15.5,  15.6,  15.7,  15.8,  15.9,  16. ,  16.1,\n",
       "        16.2,  16.3,  16.4,  16.5,  16.6,  16.7,  16.8,  16.9,  17. ,\n",
       "        17.1,  17.2,  17.3,  17.4,  17.5,  17.6,  17.7,  17.8,  17.9,\n",
       "        18. ,  18.1,  18.2,  18.3,  18.4,  18.5,  18.6,  18.7,  18.8,\n",
       "        18.9,  19. ,  19.1,  19.2,  19.3,  19.4,  19.5,  19.6,  19.7,\n",
       "        19.8,  19.9,  20. ,  20.1,  20.2,  20.3,  20.4,  20.5,  20.6,\n",
       "        20.7,  20.8,  20.9,  21. ,  21.1,  21.2,  21.3,  21.4,  21.5,\n",
       "        21.6,  21.7,  21.8,  21.9,  22. ,  22.1,  22.2,  22.3,  22.4,\n",
       "        22.5,  22.6,  22.7,  22.8,  22.9,  23. ,  23.1,  23.2,  23.3,\n",
       "        23.4,  23.5,  23.6,  23.7,  23.8,  23.9,  24. ,  24.1,  24.2,\n",
       "        24.3,  24.4,  24.5,  24.6,  24.7,  24.8,  24.9,  25. ,  25.1,\n",
       "        25.2,  25.3,  25.4,  25.5,  25.6,  25.7,  25.8,  25.9,  26. ,\n",
       "        26.1,  26.2,  26.3,  26.4,  26.5,  26.6,  26.7,  26.8,  26.9,\n",
       "        27. ,  27.1,  27.2,  27.3,  27.4,  27.5,  27.6,  27.7,  27.8,\n",
       "        27.9,  28. ,  28.1,  28.2,  28.3,  28.4,  28.5,  28.6,  28.7,\n",
       "        28.8,  28.9,  29. ,  29.1,  29.2,  29.3,  29.4,  29.5,  29.6,\n",
       "        29.7,  29.8,  29.9,  30. ,  30.1,  30.2,  30.3,  30.4,  30.5,\n",
       "        30.6,  30.7,  30.8,  30.9,  31. ,  31.1,  31.2,  31.3,  31.4,\n",
       "        31.5,  31.6,  31.7,  31.8,  31.9,  32. ,  32.1,  32.2,  32.3,\n",
       "        32.4,  32.5,  32.6,  32.7,  32.8,  32.9,  33. ,  33.1,  33.2,\n",
       "        33.3,  33.4,  33.5,  33.6,  33.7,  33.8,  33.9,  34. ,  34.1,\n",
       "        34.2,  34.3,  34.4,  34.5,  34.6,  34.7,  34.8,  34.9,  35. ,\n",
       "        35.1,  35.2,  35.3,  35.4,  35.5,  35.6,  35.7,  35.8,  35.9,\n",
       "        36. ,  36.1,  36.2,  36.3,  36.4,  36.5,  36.6,  36.7,  36.8,\n",
       "        36.9,  37. ,  37.1,  37.2,  37.3,  37.4,  37.5,  37.6,  37.7,\n",
       "        37.8,  37.9,  38. ,  38.1,  38.2,  38.3,  38.4,  38.5,  38.6,\n",
       "        38.7,  38.8,  38.9,  39. ,  39.1,  39.2,  39.3,  39.4,  39.5,\n",
       "        39.6,  39.7,  39.8,  39.9,  40. ,  40.1,  40.2,  40.3,  40.4,\n",
       "        40.5,  40.6,  40.7,  40.8,  40.9,  41. ,  41.1,  41.2,  41.3,\n",
       "        41.4,  41.5,  41.6,  41.7,  41.8,  41.9,  42. ,  42.1,  42.2,\n",
       "        42.3,  42.4,  42.5,  42.6,  42.7,  42.8,  42.9,  43. ,  43.1,\n",
       "        43.2,  43.3,  43.4,  43.5,  43.6,  43.7,  43.8,  43.9,  44. ,\n",
       "        44.1,  44.2,  44.3,  44.4,  44.5,  44.6,  44.7,  44.8,  44.9,\n",
       "        45. ,  45.1,  45.2,  45.3,  45.4,  45.5,  45.6,  45.7,  45.8,\n",
       "        45.9,  46. ,  46.1,  46.2,  46.3,  46.4,  46.5,  46.6,  46.7,\n",
       "        46.8,  46.9,  47. ,  47.1,  47.2,  47.3,  47.4,  47.5,  47.6,\n",
       "        47.7,  47.8,  47.9,  48. ,  48.1,  48.2,  48.3,  48.4,  48.5,\n",
       "        48.6,  48.7,  48.8,  48.9,  49. ,  49.1,  49.2,  49.3,  49.4,\n",
       "        49.5,  49.6,  49.7,  49.8,  49.9,  50. ])"
      ]
     },
     "execution_count": 14,
     "metadata": {},
     "output_type": "execute_result"
    }
   ],
   "source": [
    "t"
   ]
  },
  {
   "cell_type": "code",
   "execution_count": 15,
   "metadata": {
    "collapsed": false
   },
   "outputs": [
    {
     "data": {
      "text/plain": [
       "array([[  0.00000000e+00,   0.00000000e+00],\n",
       "       [  0.00000000e+00,   3.41089189e+00],\n",
       "       [  3.41089189e-01,   6.88143458e+00],\n",
       "       ..., \n",
       "       [ -1.08180469e+03,  -8.72866169e+01],\n",
       "       [ -1.09053335e+03,  -8.72883497e+01],\n",
       "       [ -1.09926219e+03,  -8.72900436e+01]])"
      ]
     },
     "execution_count": 15,
     "metadata": {},
     "output_type": "execute_result"
    }
   ],
   "source": [
    "u"
   ]
  },
  {
   "cell_type": "code",
   "execution_count": 22,
   "metadata": {
    "collapsed": false
   },
   "outputs": [
    {
     "data": {
      "text/plain": [
       "1334.1829454303067"
      ]
     },
     "execution_count": 22,
     "metadata": {},
     "output_type": "execute_result"
    }
   ],
   "source": [
    "max(h_euler)"
   ]
  },
  {
   "cell_type": "code",
   "execution_count": 27,
   "metadata": {
    "collapsed": false
   },
   "outputs": [
    {
     "data": {
      "text/plain": [
       "array([157])"
      ]
     },
     "execution_count": 27,
     "metadata": {},
     "output_type": "execute_result"
    }
   ],
   "source": [
    "numpy.where(h_euler>1334.18)[0]"
   ]
  },
  {
   "cell_type": "code",
   "execution_count": 25,
   "metadata": {
    "collapsed": false
   },
   "outputs": [
    {
     "data": {
      "text/plain": [
       "array([371, 372, 373, 374, 375, 376, 377, 378, 379, 380, 381, 382, 383,\n",
       "       384, 385, 386, 387, 388, 389, 390, 391, 392, 393, 394, 395, 396,\n",
       "       397, 398, 399, 400, 401, 402, 403, 404, 405, 406, 407, 408, 409,\n",
       "       410, 411, 412, 413, 414, 415, 416, 417, 418, 419, 420, 421, 422,\n",
       "       423, 424, 425, 426, 427, 428, 429, 430, 431, 432, 433, 434, 435,\n",
       "       436, 437, 438, 439, 440, 441, 442, 443, 444, 445, 446, 447, 448,\n",
       "       449, 450, 451, 452, 453, 454, 455, 456, 457, 458, 459, 460, 461,\n",
       "       462, 463, 464, 465, 466, 467, 468, 469, 470, 471, 472, 473, 474,\n",
       "       475, 476, 477, 478, 479, 480, 481, 482, 483, 484, 485, 486, 487,\n",
       "       488, 489, 490, 491, 492, 493, 494, 495, 496, 497, 498, 499, 500])"
      ]
     },
     "execution_count": 25,
     "metadata": {},
     "output_type": "execute_result"
    }
   ],
   "source": [
    "numpy.where(h_euler<0.0)[0]"
   ]
  },
  {
   "cell_type": "code",
   "execution_count": 26,
   "metadata": {
    "collapsed": false
   },
   "outputs": [
    {
     "data": {
      "text/plain": [
       "array([ -2.45858131, -86.00683498])"
      ]
     },
     "execution_count": 26,
     "metadata": {},
     "output_type": "execute_result"
    }
   ],
   "source": [
    "u[371]"
   ]
  },
  {
   "cell_type": "code",
   "execution_count": null,
   "metadata": {
    "collapsed": true
   },
   "outputs": [],
   "source": []
  }
 ],
 "metadata": {
  "kernelspec": {
   "display_name": "Python 2",
   "language": "python",
   "name": "python2"
  },
  "language_info": {
   "codemirror_mode": {
    "name": "ipython",
    "version": 2
   },
   "file_extension": ".py",
   "mimetype": "text/x-python",
   "name": "python",
   "nbconvert_exporter": "python",
   "pygments_lexer": "ipython2",
   "version": "2.7.6"
  }
 },
 "nbformat": 4,
 "nbformat_minor": 0
}
